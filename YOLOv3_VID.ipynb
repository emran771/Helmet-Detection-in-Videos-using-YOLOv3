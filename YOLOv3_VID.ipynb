{
  "cells": [
    {
      "cell_type": "code",
      "execution_count": 18,
      "metadata": {
        "id": "O1zbZGFJgxfR"
      },
      "outputs": [],
      "source": [
        "# !pip install opencv-python-headless numpy matplotlib"
      ]
    },
    {
      "cell_type": "markdown",
      "source": [
        "# Import Libraries"
      ],
      "metadata": {
        "id": "9bOll_tS6_9r"
      }
    },
    {
      "cell_type": "code",
      "source": [
        "import cv2\n",
        "import numpy as np"
      ],
      "metadata": {
        "id": "GX-PfMb269Ak"
      },
      "execution_count": 19,
      "outputs": []
    },
    {
      "cell_type": "markdown",
      "source": [
        "# Load YOLO model"
      ],
      "metadata": {
        "id": "afFG5-av7DO8"
      }
    },
    {
      "cell_type": "code",
      "execution_count": 20,
      "metadata": {
        "id": "qY2lLU-b6IzF"
      },
      "outputs": [],
      "source": [
        "weights_path = '/content/yolov3-helmet.weights'\n",
        "config_path = '/content/yolov3-helmet.cfg'\n",
        "names_path = '/content/helmet.names'\n",
        "\n",
        "# Function to load YOLOv3 model\n",
        "def load_yolo_model(weights_path, config_path, names_path):\n",
        "    net = cv2.dnn.readNet(weights_path, config_path)\n",
        "    with open(names_path, 'r') as f:\n",
        "        classes = [line.strip() for line in f.readlines()]\n",
        "    layer_names = net.getLayerNames()\n",
        "    output_layers = [layer_names[i - 1] for i in net.getUnconnectedOutLayers()]\n",
        "    return net, classes, output_layers"
      ]
    },
    {
      "cell_type": "code",
      "source": [],
      "metadata": {
        "id": "a6xzrQJYn_MP"
      },
      "execution_count": 20,
      "outputs": []
    },
    {
      "cell_type": "markdown",
      "source": [
        "# Function to detect helmets in a frame"
      ],
      "metadata": {
        "id": "Hrnby_Bu6Ry0"
      }
    },
    {
      "cell_type": "code",
      "source": [
        "def detect_helmets(frame):\n",
        "    blob = cv2.dnn.blobFromImage(frame, 0.00392, (416, 416), (0, 0, 0), True, crop=False)\n",
        "    net.setInput(blob)\n",
        "    outs = net.forward(output_layers)\n",
        "    return outs"
      ],
      "metadata": {
        "id": "QDqBZQxqoBAe"
      },
      "execution_count": 21,
      "outputs": []
    },
    {
      "cell_type": "markdown",
      "source": [
        "# Function to get bounding boxes from detections"
      ],
      "metadata": {
        "id": "rT9rZ-yf6URM"
      }
    },
    {
      "cell_type": "code",
      "source": [
        "def get_boxes(outs, height, width, conf_threshold=0.5):\n",
        "    class_ids, confidences, boxes = [], [], []\n",
        "    for out in outs:\n",
        "        for detection in out:\n",
        "            scores = detection[5:]\n",
        "            class_id = np.argmax(scores)\n",
        "            confidence = scores[class_id]\n",
        "            if confidence > conf_threshold:\n",
        "                center_x = int(detection[0] * width)\n",
        "                center_y = int(detection[1] * height)\n",
        "                w = int(detection[2] * width)\n",
        "                h = int(detection[3] * height)\n",
        "                x = int(center_x - w / 2)\n",
        "                y = int(center_y - h / 2)\n",
        "                boxes.append([x, y, w, h])\n",
        "                confidences.append(float(confidence))\n",
        "                class_ids.append(class_id)\n",
        "    return class_ids, confidences, boxes\n"
      ],
      "metadata": {
        "id": "2_5osY7roC23"
      },
      "execution_count": 22,
      "outputs": []
    },
    {
      "cell_type": "markdown",
      "source": [
        "# Function to draw labels on the frame"
      ],
      "metadata": {
        "id": "5SIVls496XZs"
      }
    },
    {
      "cell_type": "code",
      "execution_count": 23,
      "metadata": {
        "id": "bbG6955zh8Rj"
      },
      "outputs": [],
      "source": [
        "def draw_labels(frame, class_ids, confidences, boxes, classes):\n",
        "    indexes = cv2.dnn.NMSBoxes(boxes, confidences, 0.5, 0.4)\n",
        "    font = cv2.FONT_HERSHEY_PLAIN\n",
        "    for i in range(len(boxes)):\n",
        "        if i in indexes:\n",
        "            x, y, w, h = boxes[i]\n",
        "            label = str(classes[class_ids[i]])\n",
        "            confidence = confidences[i]\n",
        "            color = (0, 255, 0) if label == 'helmet' else (0, 0, 255)\n",
        "            cv2.rectangle(frame, (x, y), (x + w, y + h), color, 2)\n",
        "            cv2.putText(frame, f\"{label} {confidence:.2f}\", (x, y - 10), font, 1, color, 2)\n",
        "    return frame\n",
        "\n",
        "# Load the model\n",
        "net, classes, output_layers = load_yolo_model(weights_path, config_path, names_path)\n"
      ]
    },
    {
      "cell_type": "code",
      "execution_count": 24,
      "metadata": {
        "id": "6D_NrpKKz8NF"
      },
      "outputs": [],
      "source": [
        "# Function to detect helmets in a video and save the output\n",
        "def detect_from_video(video_path, output_path):\n",
        "    cap = cv2.VideoCapture(video_path)\n",
        "    if not cap.isOpened():\n",
        "        print(\"Error: Could not open video.\")\n",
        "        return\n",
        "\n",
        "    fourcc = cv2.VideoWriter_fourcc(*'mp4v')\n",
        "    out = None\n",
        "\n",
        "    while cap.isOpened():\n",
        "        ret, frame = cap.read()\n",
        "        if not ret:\n",
        "            break\n",
        "        height, width, _ = frame.shape\n",
        "\n",
        "        # Initialize the video writer with the same dimensions and FPS as the input video\n",
        "        if out is None:\n",
        "            fps = cap.get(cv2.CAP_PROP_FPS)\n",
        "            out = cv2.VideoWriter(output_path, fourcc, fps, (width, height))\n",
        "\n",
        "        outs = detect_helmets(frame)\n",
        "        class_ids, confidences, boxes = get_boxes(outs, height, width)\n",
        "        frame = draw_labels(frame, class_ids, confidences, boxes, classes)\n",
        "        out.write(frame)\n",
        "\n",
        "    cap.release()\n",
        "    if out is not None:\n",
        "        out.release()\n",
        "    cv2.destroyAllWindows()\n",
        "\n"
      ]
    },
    {
      "cell_type": "code",
      "source": [
        "# Path to the uploaded video and the output video\n",
        "video_path = '/content/vid-3.mp4'\n",
        "output_path = '/content/processed_vid-3.mp4'\n",
        "\n",
        "# Detect helmets in the video and save the output\n",
        "detect_from_video(video_path, output_path)\n",
        "\n",
        "# Display the processed video\n",
        "from IPython.display import HTML\n",
        "from base64 import b64encode\n",
        "\n",
        "# Function to display video in Colab\n",
        "def display_video(video_path):\n",
        "    video_file = open(video_path, \"rb\").read()\n",
        "    video_url = f\"data:video/mp4;base64,{b64encode(video_file).decode()}\"\n",
        "    return HTML(f\"\"\"<video width=600 controls>\n",
        "                      <source src=\"{video_url}\" type=\"video/mp4\">\n",
        "                    </video>\"\"\")\n",
        "\n",
        "# Display the processed video\n",
        "display_video(output_path)\n"
      ],
      "metadata": {
        "id": "OwhN9yqzoJzO"
      },
      "execution_count": null,
      "outputs": []
    },
    {
      "cell_type": "code",
      "execution_count": null,
      "metadata": {
        "id": "iRnJZrQ353pU"
      },
      "outputs": [],
      "source": [
        "\n",
        "from google.colab import files\n",
        "\n",
        "# Download the processed video file\n",
        "files.download('/content/processed_helmets_vid3.mp4')\n"
      ]
    },
    {
      "cell_type": "code",
      "source": [
        "from google.colab import drive\n",
        "drive.mount('/content/drive')"
      ],
      "metadata": {
        "id": "EKy7_rooy38q"
      },
      "execution_count": null,
      "outputs": []
    },
    {
      "cell_type": "code",
      "execution_count": null,
      "metadata": {
        "id": "8z40V32ZCmy5"
      },
      "outputs": [],
      "source": []
    }
  ],
  "metadata": {
    "accelerator": "GPU",
    "colab": {
      "gpuType": "T4",
      "provenance": []
    },
    "kernelspec": {
      "display_name": "Python 3",
      "name": "python3"
    },
    "language_info": {
      "name": "python"
    }
  },
  "nbformat": 4,
  "nbformat_minor": 0
}